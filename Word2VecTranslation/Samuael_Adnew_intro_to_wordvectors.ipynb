{
  "cells": [
    {
      "cell_type": "markdown",
      "metadata": {
        "id": "ws0jM8yLVIBN"
      },
      "source": [
        "\n",
        "<h1 style=\"font-family:verdana;font-size:300%;text-align:center;background-color:#f2f2f2;color:#0d0d0d\">AMMI NLP - Review sessions</h1>\n",
        "\n",
        "<h1 style=\"font-family:verdana;font-size:180%;text-align:Center;color:#993333\"> Lab 2: Introduction to wordvectors </h1>"
      ]
    },
    {
      "cell_type": "markdown",
      "metadata": {
        "id": "xx4lzmE_VIBR"
      },
      "source": [
        "**Big thanks to Amr Khalifa who improved this lab and made it to a Jupyter Notebook!**"
      ]
    },
    {
      "cell_type": "code",
      "execution_count": 1,
      "metadata": {
        "id": "yHDmWlAeVIBR"
      },
      "outputs": [
        {
          "name": "stdout",
          "output_type": "stream",
          "text": [
            "Intel MKL WARNING: Support of Intel(R) Streaming SIMD Extensions 4.2 (Intel(R) SSE4.2) enabled only processors has been deprecated. Intel oneAPI Math Kernel Library 2025.0 will require Intel(R) Advanced Vector Extensions (Intel(R) AVX) instructions.\n",
            "Intel MKL WARNING: Support of Intel(R) Streaming SIMD Extensions 4.2 (Intel(R) SSE4.2) enabled only processors has been deprecated. Intel oneAPI Math Kernel Library 2025.0 will require Intel(R) Advanced Vector Extensions (Intel(R) AVX) instructions.\n"
          ]
        }
      ],
      "source": [
        "import io, sys\n",
        "import numpy as np"
      ]
    },
    {
      "cell_type": "code",
      "execution_count": 2,
      "metadata": {
        "id": "7eM9cWzcVIBS"
      },
      "outputs": [],
      "source": [
        "def load_vectors(filename):\n",
        "    fin = io.open(filename, 'r', encoding='utf-8', newline='\\n')\n",
        "    n, d = map(int, fin.readline().split())\n",
        "    data = {}\n",
        "    for line in fin:\n",
        "        tokens = line.rstrip().split(' ')\n",
        "        data[tokens[0]] = np.asarray([float(x) for x in tokens[1:]])\n",
        "    return data"
      ]
    },
    {
      "cell_type": "code",
      "execution_count": 3,
      "metadata": {
        "colab": {
          "base_uri": "https://localhost:8080/"
        },
        "id": "zYXTdfhLVIBT",
        "outputId": "6767a381-457b-433c-fda5-80430918ea86"
      },
      "outputs": [
        {
          "name": "stdout",
          "output_type": "stream",
          "text": [
            "\n",
            " ** Word vectors ** \n",
            "\n",
            "<class 'numpy.ndarray'> 300\n"
          ]
        }
      ],
      "source": [
        "# Loading word vectors\n",
        "\n",
        "print('')\n",
        "print(' ** Word vectors ** ')\n",
        "print('')\n",
        "\n",
        "'''\n",
        "word_vectors is a dictionary that maps words to their numerical word vector\n",
        "[word (string)] = [np-array]\n",
        "'''\n",
        "word_vectors = load_vectors('wiki.en.vec')\n",
        "\n",
        "tree_vector = word_vectors['tree']\n",
        "print(type(tree_vector), len(tree_vector))"
      ]
    },
    {
      "cell_type": "code",
      "execution_count": 4,
      "metadata": {
        "id": "dJVH-g49VIBT"
      },
      "outputs": [],
      "source": [
        "## This function computes the cosine similarity between vectors u and v\n",
        "\n",
        "def cosine(u, v):\n",
        "    '''\n",
        "    Parameters:\n",
        "    u : 1-D numpy array\n",
        "    v : 1-D numpy array\n",
        "\n",
        "    Returns:\n",
        "    cos (float) : value of the cosine similairy between vectors u, v\n",
        "    '''\n",
        "    ## FILL CODE\n",
        "    return (u@v)/((np.linalg.norm(u,ord=2))*(np.linalg.norm(v,ord=2)))\n"
      ]
    },
    {
      "cell_type": "code",
      "execution_count": 5,
      "metadata": {
        "id": "HMM1ycALVIBV"
      },
      "outputs": [
        {
          "name": "stdout",
          "output_type": "stream",
          "text": [
            "similarity(apple, apples) = 0.637\n",
            "similarity(apple, banana) = 0.431\n",
            "similarity(apple, tiger) = 0.212\n"
          ]
        }
      ],
      "source": [
        "# compute similarity between words\n",
        "\n",
        "print('similarity(apple, apples) = %.3f' %\n",
        "      cosine(word_vectors['apple'], word_vectors['apples']))\n",
        "print('similarity(apple, banana) = %.3f' %\n",
        "      cosine(word_vectors['apple'], word_vectors['banana']))\n",
        "print('similarity(apple, tiger) = %.3f' %\n",
        "      cosine(word_vectors['apple'], word_vectors['tiger']))"
      ]
    },
    {
      "cell_type": "code",
      "execution_count": 6,
      "metadata": {
        "id": "tJ_kNj26VIBV"
      },
      "outputs": [],
      "source": [
        "## Functions for nearest neighbor\n",
        "## This function returns the word corresponding to\n",
        "## nearest neighbor vector of x\n",
        "## The list exclude_words can be used to exclude some\n",
        "## words from the nearest neighbors search\n",
        "\n",
        "def nearest_neighbor(x, word_vectors, exclude_words=[]):\n",
        "    '''\n",
        "    Parameters:\n",
        "    x (string): word to find its nearest neighbour\n",
        "    word_vectors (Python dict): {word (string): np-array of word vector}\n",
        "    exclude_words (list of strings): words to be excluded from the search\n",
        "\n",
        "    Returns:\n",
        "    best_word (string) : the word whose word vector is the nearest neighbour\n",
        "    to the word vector of x\n",
        "    '''\n",
        "    best_score = -1.0\n",
        "    best_word = None\n",
        "    for word in word_vectors.keys():\n",
        "        if word in exclude_words:\n",
        "            continue\n",
        "        score = cosine(word_vectors[word], x)\n",
        "        if score > best_score:\n",
        "            best_score= score\n",
        "            best_word = word\n",
        "    return best_word"
      ]
    },
    {
      "cell_type": "code",
      "execution_count": 7,
      "metadata": {
        "id": "_W1Q0CaJVIBW"
      },
      "outputs": [
        {
          "name": "stdout",
          "output_type": "stream",
          "text": [
            "\n",
            "The nearest neighbor of cat is: dog\n"
          ]
        }
      ],
      "source": [
        "print('')\n",
        "%timeit\n",
        "print('The nearest neighbor of cat is: ' +\n",
        "      nearest_neighbor(word_vectors['cat'], word_vectors, exclude_words = ['cat', 'cats']))"
      ]
    },
    {
      "cell_type": "markdown",
      "metadata": {
        "id": "nOe6L4CfVIBW"
      },
      "source": [
        "#### Hint (using python priorty queues with the heapq datastructure):\n",
        "if you don't want to store all the words and scores you can use the priortiy queue and only store the best K element so far."
      ]
    },
    {
      "cell_type": "code",
      "execution_count": 8,
      "metadata": {
        "id": "HvpCBdP-VIBW"
      },
      "outputs": [],
      "source": [
        "\n",
        "## This function return the words corresponding to the\n",
        "## K nearest neighbors of vector x.\n",
        "## You can use the functions heappush and heappop.\n",
        "\n",
        "def knn(x, word_vectors, k):\n",
        "    '''\n",
        "    Parameters:\n",
        "    x (string): word to find its nearest neighbour\n",
        "    word_vectors (Python dict): {word (string): np-array of word vector}\n",
        "    k (int): number of nearest neighbours to be found\n",
        "\n",
        "    Returns:\n",
        "    k_nearest_neighbors (list of tuples): [(score, word), (score, word), ....]\n",
        "    '''\n",
        "\n",
        "    ## FILL CODE\n",
        "    k_nearest_neighbors = []\n",
        "    for word in word_vectors.keys():\n",
        "        score = cosine(x, word_vectors[word])\n",
        "        if len(k_nearest_neighbors)<k:\n",
        "            k_nearest_neighbors.append( ( score, word ))\n",
        "        else:\n",
        "            smallest_index= 0\n",
        "            for i, val in enumerate(k_nearest_neighbors):\n",
        "                if val[0]<score:\n",
        "                    if k_nearest_neighbors[smallest_index]<k_nearest_neighbors[i]:\n",
        "                        smallest_index = i\n",
        "            k_nearest_neighbors[smallest_index]= (score, word)\n",
        "\n",
        "    return k_nearest_neighbors"
      ]
    },
    {
      "cell_type": "code",
      "execution_count": 9,
      "metadata": {
        "id": "qtS5cK9rVIBX"
      },
      "outputs": [
        {
          "name": "stdout",
          "output_type": "stream",
          "text": [
            "\n",
            "cat\n",
            "--------------\n",
            "apples\t0.231\n",
            "cat\t1.000\n",
            "pet\t0.573\n",
            "cats\t0.732\n",
            "rabbit\t0.549\n"
          ]
        }
      ],
      "source": [
        "knn_cat = knn(word_vectors['cat'], word_vectors, 5)\n",
        "print('')\n",
        "print('cat')\n",
        "print('--------------')\n",
        "for score, word in knn(word_vectors['cat'], word_vectors, 5):\n",
        "    print (word + '\\t%.3f' % score)\n"
      ]
    },
    {
      "cell_type": "markdown",
      "metadata": {
        "id": "2hjGNriiVIBX"
      },
      "source": [
        "#### Hint:\n",
        "To find the analogies, we find the nearest neighbour associated with the wordvector d\n",
        "$$ d = \\frac{c}{\\Vert {c} \\Vert} + \\frac{b}{\\Vert {b} \\Vert} - \\frac{a}{\\Vert {a} \\Vert}$$\n"
      ]
    },
    {
      "cell_type": "code",
      "execution_count": 13,
      "metadata": {},
      "outputs": [],
      "source": [
        "def normalval(x):\n",
        "    return x/np.linalg.norm(x,ord=2)"
      ]
    },
    {
      "cell_type": "code",
      "execution_count": 14,
      "metadata": {
        "id": "oJ6mXD_EVIBX"
      },
      "outputs": [],
      "source": [
        "## This function return the words d, such that a:b and c:d\n",
        "## verifies the same relation\n",
        "\n",
        "def analogy(a, b, c, word_vectors):\n",
        "    '''\n",
        "    Parameters:\n",
        "    a (string): word a\n",
        "    b (string): word b\n",
        "    c (string): word c\n",
        "    word_vectors (Python dict): {word (string): np-array of word vector}\n",
        "\n",
        "    Returnrs:\n",
        "    the word d (string) associated with c such that c:d is similar to a:b\n",
        "\n",
        "    '''\n",
        "    d = normalval(word_vectors[c]) + normalval(word_vectors[b]) - normalval(word_vectors[a])\n",
        "    ## FILL CODE\n",
        "    return nearest_neighbor(d,word_vectors)"
      ]
    },
    {
      "cell_type": "code",
      "execution_count": 15,
      "metadata": {
        "id": "-lMPd5P0VIBX"
      },
      "outputs": [
        {
          "name": "stdout",
          "output_type": "stream",
          "text": [
            "\n",
            "france - paris + rome = italy\n"
          ]
        }
      ],
      "source": [
        "# Word analogies\n",
        "\n",
        "print('')\n",
        "print('france - paris + rome = ' + analogy('paris', 'france', 'rome', word_vectors))"
      ]
    },
    {
      "cell_type": "markdown",
      "metadata": {
        "id": "98C12GiLVIBY"
      },
      "source": [
        "## A word about biases in word vectors"
      ]
    },
    {
      "cell_type": "code",
      "execution_count": 18,
      "metadata": {
        "id": "lTYa10--VIBY"
      },
      "outputs": [
        {
          "name": "stdout",
          "output_type": "stream",
          "text": [
            "\n",
            "similarity(genius, man) = 0.445\n",
            "similarity(genius, woman) = 0.325\n"
          ]
        }
      ],
      "source": [
        "## A word about biases in word vectors:\n",
        "\n",
        "print('')\n",
        "print('similarity(genius, man) = %.3f' %\n",
        "      cosine(word_vectors['man'], word_vectors['genius']))\n",
        "print('similarity(genius, woman) = %.3f' %\n",
        "      cosine(word_vectors['woman'], word_vectors['genius']))"
      ]
    },
    {
      "cell_type": "code",
      "execution_count": 19,
      "metadata": {
        "id": "U5fPdWHdVIBY"
      },
      "outputs": [],
      "source": [
        "## Compute the association strength between:\n",
        "##   - a word w\n",
        "##   - two sets of attributes A and B\n",
        "\n",
        "def association_strength(w, A, B, vectors):\n",
        "    '''\n",
        "    Parameters:\n",
        "    w (string): word w\n",
        "    A (list of strings): The words belonging to set A\n",
        "    B (list of strings): The words belonging to set B\n",
        "    vectors (Python dict): {word (string): np-array of word vector}\n",
        "\n",
        "    Returnrs:\n",
        "    strength (float): the value of the association strength\n",
        "    '''\n",
        "\n",
        "    strength = 0.0\n",
        "    part_a = 0.0\n",
        "    for a in A:\n",
        "        part_a+=cosine(vectors[w],vectors[a])\n",
        "    part_a = part_a/len(A)\n",
        "    part_b = 0.0\n",
        "    for b in B:\n",
        "        part_b+=cosine(vectors[w],vectors[b])\n",
        "    part_b = part_b/len(B)\n",
        "    ## FILL CODE\n",
        "    return part_a - part_b"
      ]
    },
    {
      "cell_type": "code",
      "execution_count": 21,
      "metadata": {},
      "outputs": [
        {
          "data": {
            "text/plain": [
              "-0.7757741522698951"
            ]
          },
          "execution_count": 21,
          "metadata": {},
          "output_type": "execute_result"
        }
      ],
      "source": [
        "# print(word_vectors.keys())\n",
        "\n",
        "places = ['france', \"canada\", \"australian\", \"italy\", \"california\", \"kingdom\"]\n",
        "months = [ \"september\", \"october\", \"november\",\"december\", \"february\", \"june\"]\n",
        "association_strength(\"january\", places, months, word_vectors)\n"
      ]
    },
    {
      "cell_type": "code",
      "execution_count": 22,
      "metadata": {
        "id": "kTbYeY08VIBY"
      },
      "outputs": [],
      "source": [
        "## Perform the word embedding association test between:\n",
        "##   - two sets of words X and Y\n",
        "##   - two sets of attributes A and B\n",
        "\n",
        "def weat(X, Y, A, B, vectors):\n",
        "    '''\n",
        "    Parameters:\n",
        "    X (list of strings): The words belonging to set X\n",
        "    Y (list of strings): The words belonging to set Y\n",
        "    A (list of strings): The words belonging to set A\n",
        "    B (list of strings): The words belonging to set B\n",
        "    vectors (Python dict): {word (string): np-array of word vector}\n",
        "\n",
        "    Returns:\n",
        "    score (float): the value of the group association strength\n",
        "    '''\n",
        "\n",
        "    score = 0.0\n",
        "    scorex =0.0\n",
        "    scorey = 0.0\n",
        "    for wordx in X:\n",
        "        scorex += association_strength(wordx, A, B, vectors)\n",
        "    scorex = scorex / len(X)\n",
        "    for wordy in Y:\n",
        "        scorey += association_strength(wordy, A, B, vectors)\n",
        "    scorey = scorey / len(Y)\n",
        "    ## FILL CODE\n",
        "    return scorex-scorey"
      ]
    },
    {
      "cell_type": "code",
      "execution_count": 24,
      "metadata": {
        "id": "wkMW2eapVIBY"
      },
      "outputs": [
        {
          "name": "stdout",
          "output_type": "stream",
          "text": [
            "\n",
            "Word embedding association test: -0.106\n"
          ]
        }
      ],
      "source": [
        "## Replicate one of the experiments from:\n",
        "##\n",
        "## Semantics derived automatically from language corpora contain human-like biases\n",
        "## Caliskan, Bryson, Narayanan (2017)\n",
        "\n",
        "career = ['executive', 'management', 'professional', 'corporation',\n",
        "          'salary', 'office', 'business', 'career']\n",
        "family = ['home', 'parents', 'children', 'family',\n",
        "          'cousins', 'marriage', 'wedding', 'relatives']\n",
        "male = ['john', 'paul', 'mike', 'kevin', 'steve', 'greg', 'jeff', 'bill']\n",
        "female = ['amy', 'joan', 'lisa', 'sarah', 'diana', 'kate', 'ann', 'donna']\n",
        "\n",
        "print('')\n",
        "print('Word embedding association test: %.3f' %\n",
        "      weat(family,career, male, female, word_vectors))"
      ]
    },
    {
      "cell_type": "markdown",
      "metadata": {
        "id": "sXrFvehBVIBY"
      },
      "source": [
        "## Word translation using word vectors\n",
        "\n",
        "In the following, we will use word vectors in English and French to translate words from English to French. The idea is to learn a linear function that maps English word vectors to their correponding French word vectors. To learn this linear mapping, we will use a small bilingual lexicon, that contains pairs of words in English and French that are translations of each other.\n",
        "\n",
        "The following function will load the small English-French bilingual lexicon:"
      ]
    },
    {
      "cell_type": "code",
      "execution_count": 25,
      "metadata": {
        "id": "PeaxjzkGVIBZ"
      },
      "outputs": [],
      "source": [
        "def load_lexicon(filename):\n",
        "    '''\n",
        "    Parameters:\n",
        "    filename(string): the path of the lexicon\n",
        "\n",
        "    Returns:\n",
        "    data(list of pairs of string): the bilingual lexicon\n",
        "    '''\n",
        "    fin = io.open(filename, 'r', encoding='utf-8', newline='\\n')\n",
        "    data = []\n",
        "    for line in fin:\n",
        "        a, b = line.rstrip().split(' ')\n",
        "        data.append((a, b))\n",
        "    return data"
      ]
    },
    {
      "cell_type": "code",
      "execution_count": 26,
      "metadata": {
        "id": "ms7LPXS8VIBZ"
      },
      "outputs": [
        {
          "name": "stdout",
          "output_type": "stream",
          "text": [
            "[('the', 'le'), ('the', 'les'), ('the', 'la'), ('and', 'et'), ('was', 'fut')]\n"
          ]
        }
      ],
      "source": [
        "word_vectors_en = load_vectors('wiki.en.vec')\n",
        "word_vectors_fr = load_vectors('wiki.fr.vec')\n",
        "lexicon = load_lexicon(\"lexicon-en-fr.txt\")\n",
        "print(lexicon[:5])"
      ]
    },
    {
      "cell_type": "code",
      "execution_count": 104,
      "metadata": {
        "id": "a-xW4_wAVIBZ"
      },
      "outputs": [],
      "source": [
        "# We split the lexicon into a train and validation set\n",
        "train = lexicon[:5000]\n",
        "valid = lexicon[5000:5100]"
      ]
    },
    {
      "cell_type": "code",
      "execution_count": 105,
      "metadata": {},
      "outputs": [],
      "source": [
        "def mseLoss(prediction, label):\n",
        "    return np.average(np.sqrt(np.sum((prediction - label)**2, axis=1)))\n",
        "\n",
        "def dwMseLoss(x, w, label):\n",
        "    return 2*x.T@x@w -2*x.T@label"
      ]
    },
    {
      "cell_type": "markdown",
      "metadata": {
        "id": "nQn6qH-4VIBZ"
      },
      "source": [
        "The following function will learn the mapping from English to French. The idea is to build two matrices $X_{\\text{en}}$ and $X_{\\text{fr}}$, and to find a mapping $M$ that minimizes $||X_{\\text{en}} W - X_{\\text{fr}} ||_2$. In numpy, this mapping can be obtained by using the `numpy.linalg.lstsq` function."
      ]
    },
    {
      "cell_type": "code",
      "execution_count": 109,
      "metadata": {
        "id": "LCLe36T_VIBZ"
      },
      "outputs": [],
      "source": [
        "def align(word_vectors_en, word_vectors_fr, lexicon):\n",
        "    '''\n",
        "    Parameters:\n",
        "    word_vectors_en(dict: string -> np.array): English word vectors\n",
        "    word_vectors_en(dict: string -> np.array): French word vectors\n",
        "    lexicon(list of pairs of string): bilingual training lexicon\n",
        "\n",
        "    Returns\n",
        "    mapping(np.array): the mapping from English to French vectors\n",
        "    '''\n",
        "    x_en, x_fr = [], []\n",
        "    # w = np.zeros((len(word_vectors_en), len(word_vectors_fr)))\n",
        "    for (en, fr) in lexicon:\n",
        "        x_en.append(word_vectors_en[en])\n",
        "        x_fr.append(word_vectors_fr[fr])\n",
        "    x_en, x_fr = np.array(x_en), np.array(x_fr)\n",
        "\n",
        "\n",
        "    w = np.linalg.lstsq(x_en, x_fr, rcond=None)\n",
        "    w=np.array(w[0])\n",
        "\n",
        "    EPOCHS=10\n",
        "    batch_size = 5\n",
        "    initial_index = 0\n",
        "    lr=0.01\n",
        "    for epoch in range(EPOCHS):\n",
        "        losses = []\n",
        "        for index in range(initial_index, len(x_en), batch_size):\n",
        "            x_end = x_en[initial_index:initial_index+batch_size if initial_index+batch_size < len(x_en) else len(x_en)]\n",
        "            prediction = x_end@w\n",
        "            labels = x_fr[initial_index:initial_index+batch_size if initial_index+batch_size < len(x_en) else len(x_en)]\n",
        "            loss = mseLoss(prediction, labels)\n",
        "            losses.append(loss)\n",
        "            w -= 0.01 * dwMseLoss(x_end, w, labels)\n",
        "            if len(losses) % 1000 ==0:\n",
        "                lr/=5\n",
        "                print(\"Loss: \", loss)\n",
        "    return w"
      ]
    },
    {
      "cell_type": "code",
      "execution_count": 110,
      "metadata": {
        "id": "K5-CM2tvVIBZ"
      },
      "outputs": [
        {
          "name": "stdout",
          "output_type": "stream",
          "text": [
            "Loss:  0.9167691711041114\n",
            "Loss:  0.9167691711041112\n",
            "Loss:  0.9167691711041112\n",
            "Loss:  0.9167691711041112\n",
            "Loss:  0.9167691711041112\n",
            "Loss:  0.9167691711041112\n",
            "Loss:  0.9167691711041112\n",
            "Loss:  0.9167691711041112\n",
            "Loss:  0.9167691711041112\n",
            "Loss:  0.9167691711041112\n"
          ]
        }
      ],
      "source": [
        "mapping = align(word_vectors_en, word_vectors_fr, lexicon)"
      ]
    },
    {
      "cell_type": "markdown",
      "metadata": {
        "id": "XaqyOcxXVIBZ"
      },
      "source": [
        "Given a mapping, a set of word English word vector and French word vectors, the next function will translate the English word to French. To do so, we apply the mapping on the English word, and retrieve the nearest neighbor of the obtained vector in the set of French word vectors. The translation is then the corresponding French word."
      ]
    },
    {
      "cell_type": "code",
      "execution_count": 111,
      "metadata": {
        "id": "qfYJWA6IVIBZ"
      },
      "outputs": [],
      "source": [
        "def translate(word, word_vectors_en, word_vectors_fr, mapping):\n",
        "    '''\n",
        "    Parameters:\n",
        "    word(string): an English word\n",
        "    word_vectors_en(dict: string -> np.array): English word vectors\n",
        "    word_vectors_en(dict: string -> np.array): French word vectors\n",
        "    mapping(np.array): the mapping from English to French vectors\n",
        "\n",
        "    Returns\n",
        "    A string containing the translation of the English word\n",
        "    '''\n",
        "    ## FILL CODE\n",
        "    prediction = np.array(word_vectors_en[word])@mapping\n",
        "    return nearest_neighbor(prediction, word_vectors_fr)"
      ]
    },
    {
      "cell_type": "code",
      "execution_count": 112,
      "metadata": {
        "id": "pXukd9VlVIBZ"
      },
      "outputs": [
        {
          "name": "stdout",
          "output_type": "stream",
          "text": [
            "monde\n",
            "machine\n",
            "apprentissage\n"
          ]
        }
      ],
      "source": [
        "print(translate(\"world\", word_vectors_en, word_vectors_fr, mapping))\n",
        "print(translate(\"machine\", word_vectors_en, word_vectors_fr, mapping))\n",
        "print(translate(\"learning\", word_vectors_en, word_vectors_fr, mapping))"
      ]
    },
    {
      "cell_type": "markdown",
      "metadata": {
        "id": "mZocczyxVIBa"
      },
      "source": [
        "Finally, let's implement a function to evaluate this method on the validation lexicon:"
      ]
    },
    {
      "cell_type": "code",
      "execution_count": 113,
      "metadata": {
        "id": "nf7Q-AI-VIBa"
      },
      "outputs": [],
      "source": [
        "def evaluate(valid, word_vectors_en, word_vectors_fr, mapping):\n",
        "    '''\n",
        "    Parameters:\n",
        "    valid(a list of pairs of string): the validation lexicon\n",
        "    word_vectors_en(dict: string -> np.array): English word vectors\n",
        "    word_vectors_fr(dict: string -> np.array): French word vectors\n",
        "    mapping(np.array): the mapping from English to French vectors\n",
        "\n",
        "    Returns\n",
        "    Accuracy(float): the accuracy on the validation lexicon\n",
        "    '''\n",
        "    acc = 0.0\n",
        "    ## FILL CODE\n",
        "    x_en, x_fr = [], []\n",
        "    for index, (enw, frw) in enumerate(valid):\n",
        "        prediction = word_vectors_en[enw]@mapping\n",
        "        word = translate(enw, word_vectors_en, word_vectors_fr, mapping)\n",
        "        if word == frw:\n",
        "            acc+=1\n",
        "    return (acc/len(valid))*100"
      ]
    },
    {
      "cell_type": "code",
      "execution_count": 115,
      "metadata": {
        "id": "81a-znbVVIBa"
      },
      "outputs": [
        {
          "name": "stdout",
          "output_type": "stream",
          "text": [
            "Accuracy: .3f% 63.0\n"
          ]
        }
      ],
      "source": [
        "print(f\"Accuracy: .3f%\", evaluate(valid, word_vectors_en, word_vectors_fr, mapping))"
      ]
    },
    {
      "cell_type": "code",
      "execution_count": 117,
      "metadata": {
        "id": "4TJOmqP2VIBa"
      },
      "outputs": [],
      "source": [
        "def translateSentence(sentence,word_vectors_en, word_vectors_fr, mapping):\n",
        "    french_sentence = []\n",
        "    for word in sentence:\n",
        "        prediction = np.array(word_vectors_en[word])@mapping\n",
        "        french_sentence.append(nearest_neighbor(prediction, word_vectors_fr))\n",
        "    return french_sentence"
      ]
    },
    {
      "cell_type": "code",
      "execution_count": 118,
      "metadata": {},
      "outputs": [
        {
          "name": "stdout",
          "output_type": "stream",
          "text": [
            "['monde', 'est', 'beauté', 'lieu']\n"
          ]
        }
      ],
      "source": [
        "print(translateSentence([\"world\", \"is\", \"beautiful\", \"place\"], word_vectors_en, word_vectors_fr, mapping))"
      ]
    }
  ],
  "metadata": {
    "colab": {
      "provenance": []
    },
    "kernelspec": {
      "display_name": "Python 3.10.11 ('written_rec')",
      "language": "python",
      "name": "python3"
    },
    "language_info": {
      "codemirror_mode": {
        "name": "ipython",
        "version": 3
      },
      "file_extension": ".py",
      "mimetype": "text/x-python",
      "name": "python",
      "nbconvert_exporter": "python",
      "pygments_lexer": "ipython3",
      "version": "3.10.11"
    },
    "vscode": {
      "interpreter": {
        "hash": "c8a371f0435d5ccc31de511c9e4f5256989c00b3b240bb433096a5bf4058be2c"
      }
    }
  },
  "nbformat": 4,
  "nbformat_minor": 0
}
